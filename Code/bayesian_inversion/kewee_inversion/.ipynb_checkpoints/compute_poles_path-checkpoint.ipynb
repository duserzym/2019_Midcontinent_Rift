{
 "cells": [
  {
   "cell_type": "code",
   "execution_count": 1,
   "metadata": {},
   "outputs": [
    {
     "name": "stderr",
     "output_type": "stream",
     "text": [
      "/Users/Laurentia/anaconda/envs/python2/lib/python2.7/site-packages/matplotlib/font_manager.py:273: UserWarning: Matplotlib is building the font cache using fc-list. This may take a moment.\n",
      "  warnings.warn('Matplotlib is building the font cache using fc-list. This may take a moment.')\n"
     ]
    }
   ],
   "source": [
    "import apw_path"
   ]
  },
  {
   "cell_type": "code",
   "execution_count": 2,
   "metadata": {},
   "outputs": [
    {
     "name": "stdout",
     "output_type": "stream",
     "text": [
      "Fitting Keweenawan APW track without TPW and 1 Euler rotation\n",
      "Loading MCMC results from disk...\n",
      "Done\n"
     ]
    }
   ],
   "source": [
    "path2, _, _, _ = apw_path.create_model(1, False)\n",
    "apw_path.load_or_sample_model(path2)"
   ]
  },
  {
   "cell_type": "code",
   "execution_count": 4,
   "metadata": {},
   "outputs": [
    {
     "data": {
      "text/plain": [
       "array([[ 38.82467874,  25.72643031,  14.49803024, ...,   0.97706498,\n",
       "         -1.78982479,  -2.43343546],\n",
       "       [ 37.2491501 ,  24.78738053,  14.15556299, ...,   0.79325578,\n",
       "         -2.37277915,  -3.66796446],\n",
       "       [ 39.87711656,  26.3152999 ,  14.42435163, ...,   0.18273064,\n",
       "         -2.57451724,  -3.02512821],\n",
       "       ..., \n",
       "       [ 36.50496387,  23.76009989,  12.73952494, ...,  -0.69012007,\n",
       "         -3.47019944,  -4.1381073 ],\n",
       "       [ 38.21707748,  24.98713947,  13.6356588 , ...,   0.46857119,\n",
       "         -1.85015545,  -1.91444077],\n",
       "       [ 37.1688324 ,  24.47753922,  13.42781143, ...,   0.12263668,\n",
       "         -2.46198751,  -2.86532446]])"
      ]
     },
     "execution_count": 4,
     "metadata": {},
     "output_type": "execute_result"
    }
   ],
   "source": [
    "ages = [1110,1105,1100,1095,1090,1085,1080]\n",
    "pole_positions = path2.compute_poles_on_path(ages,n_poles=10000)\n",
    "pole_positions[0]"
   ]
  },
  {
   "cell_type": "code",
   "execution_count": 6,
   "metadata": {},
   "outputs": [],
   "source": [
    "import numpy as np\n",
    "np.savetxt('pole_lon_positions1.txt',pole_positions[0])\n",
    "np.savetxt('pole_lat_positions1.txt',pole_positions[1])"
   ]
  },
  {
   "cell_type": "code",
   "execution_count": 7,
   "metadata": {},
   "outputs": [
    {
     "name": "stdout",
     "output_type": "stream",
     "text": [
      "Fitting Keweenawan APW track with TPW and 2 Euler rotations\n",
      "Loading MCMC results from disk...\n",
      "Done\n"
     ]
    }
   ],
   "source": [
    "path5, _, _, _ = apw_path.create_model(2, True)\n",
    "apw_path.load_or_sample_model(path5)"
   ]
  },
  {
   "cell_type": "code",
   "execution_count": 8,
   "metadata": {},
   "outputs": [
    {
     "data": {
      "text/plain": [
       "array([[ 44.74910583,  27.6936149 ,  11.82428472, ...,   1.81835414,\n",
       "          1.023692  ,  -0.23867888],\n",
       "       [ 49.86599864,  30.46523643,  12.28721139, ...,   1.94829239,\n",
       "          1.47118505,   0.86451208],\n",
       "       [ 44.54462299,  25.41024465,   6.98360339, ...,   1.5677776 ,\n",
       "          1.01001572,  -0.24380806],\n",
       "       ..., \n",
       "       [ 40.01054623,  25.028674  ,  11.34107824, ...,   2.51458441,\n",
       "          1.69729141,   0.66008117],\n",
       "       [ 44.87554237,  27.61393699,  11.82490785, ...,   2.46666153,\n",
       "          2.40770801,   2.0083167 ],\n",
       "       [ 43.91557147,  27.85017798,  13.10286927, ...,   2.14962004,\n",
       "          1.6227711 ,   1.06941578]])"
      ]
     },
     "execution_count": 8,
     "metadata": {},
     "output_type": "execute_result"
    }
   ],
   "source": [
    "ages = [1110,1105,1100,1095,1090,1085,1080]\n",
    "pole_positions5 = path5.compute_poles_on_path(ages,n_poles=10000)\n",
    "pole_positions5[0]"
   ]
  },
  {
   "cell_type": "code",
   "execution_count": 9,
   "metadata": {
    "collapsed": true
   },
   "outputs": [],
   "source": [
    "import numpy as np\n",
    "np.savetxt('pole_lon_positions5.txt',pole_positions5[0])\n",
    "np.savetxt('pole_lat_positions5.txt',pole_positions5[1])"
   ]
  },
  {
   "cell_type": "code",
   "execution_count": null,
   "metadata": {
    "collapsed": true
   },
   "outputs": [],
   "source": []
  },
  {
   "cell_type": "code",
   "execution_count": 1,
   "metadata": {},
   "outputs": [
    {
     "name": "stderr",
     "output_type": "stream",
     "text": [
      "/Users/Laurentia/anaconda/envs/python2/lib/python2.7/site-packages/matplotlib/font_manager.py:273: UserWarning: Matplotlib is building the font cache using fc-list. This may take a moment.\n",
      "  warnings.warn('Matplotlib is building the font cache using fc-list. This may take a moment.')\n"
     ]
    },
    {
     "name": "stdout",
     "output_type": "stream",
     "text": [
      "Fitting Keweenawan APW track with TPW and 2 Euler rotations\n",
      "Loading MCMC results from disk...\n",
      "Done\n"
     ]
    },
    {
     "name": "stderr",
     "output_type": "stream",
     "text": [
      "/Users/Laurentia/anaconda/envs/python2/lib/python2.7/site-packages/cartopy/mpl/geoaxes.py:1339: RuntimeWarning: invalid value encountered in greater\n",
      "  to_mask = ((np.abs(dx_horizontal) > np.pi / 2) |\n"
     ]
    },
    {
     "name": "stdout",
     "output_type": "stream",
     "text": [
      "Rotation 0: median 17.165655, credible interval  [ 13.39257473  21.11579433]\n",
      "Rotation 1: median 16.185452, credible interval  [  8.85842853  24.76528035]\n",
      "Rotation 2: median 1.483546, credible interval  [  7.79389090e-06   5.87987770e+00]\n",
      "Changepoint 0: median 1096.837851, credible interval  [ 1095.35817611  1098.56672158]\n"
     ]
    },
    {
     "ename": "NameError",
     "evalue": "name 'pole_positions' is not defined",
     "output_type": "error",
     "traceback": [
      "\u001b[0;31m---------------------------------------------------------------------------\u001b[0m",
      "\u001b[0;31mNameError\u001b[0m                                 Traceback (most recent call last)",
      "\u001b[0;32m<ipython-input-1-f74c013230f5>\u001b[0m in \u001b[0;36m<module>\u001b[0;34m()\u001b[0m\n\u001b[1;32m      2\u001b[0m \u001b[0mages\u001b[0m \u001b[0;34m=\u001b[0m \u001b[0;34m[\u001b[0m\u001b[0;36m1110\u001b[0m\u001b[0;34m,\u001b[0m\u001b[0;36m1105\u001b[0m\u001b[0;34m,\u001b[0m\u001b[0;36m1100\u001b[0m\u001b[0;34m,\u001b[0m\u001b[0;36m1095\u001b[0m\u001b[0;34m,\u001b[0m\u001b[0;36m1090\u001b[0m\u001b[0;34m,\u001b[0m\u001b[0;36m1085\u001b[0m\u001b[0;34m,\u001b[0m\u001b[0;36m1080\u001b[0m\u001b[0;34m]\u001b[0m\u001b[0;34m\u001b[0m\u001b[0m\n\u001b[1;32m      3\u001b[0m \u001b[0mpole_positions_2_true\u001b[0m \u001b[0;34m=\u001b[0m \u001b[0mpath\u001b[0m\u001b[0;34m.\u001b[0m\u001b[0mcompute_poles_on_path\u001b[0m\u001b[0;34m(\u001b[0m\u001b[0mages\u001b[0m\u001b[0;34m,\u001b[0m\u001b[0mn_poles\u001b[0m\u001b[0;34m=\u001b[0m\u001b[0;36m1000\u001b[0m\u001b[0;34m)\u001b[0m\u001b[0;34m\u001b[0m\u001b[0m\n\u001b[0;32m----> 4\u001b[0;31m \u001b[0mnp\u001b[0m\u001b[0;34m.\u001b[0m\u001b[0msavetxt\u001b[0m\u001b[0;34m(\u001b[0m\u001b[0;34m'pole_lon_positions_2_true.txt'\u001b[0m\u001b[0;34m,\u001b[0m\u001b[0mpole_positions\u001b[0m\u001b[0;34m[\u001b[0m\u001b[0;36m0\u001b[0m\u001b[0;34m]\u001b[0m\u001b[0;34m)\u001b[0m\u001b[0;34m\u001b[0m\u001b[0m\n\u001b[0m\u001b[1;32m      5\u001b[0m \u001b[0mnp\u001b[0m\u001b[0;34m.\u001b[0m\u001b[0msavetxt\u001b[0m\u001b[0;34m(\u001b[0m\u001b[0;34m'pole_lat_positions_2_true.txt'\u001b[0m\u001b[0;34m,\u001b[0m\u001b[0mpole_positions\u001b[0m\u001b[0;34m[\u001b[0m\u001b[0;36m1\u001b[0m\u001b[0;34m]\u001b[0m\u001b[0;34m)\u001b[0m\u001b[0;34m\u001b[0m\u001b[0m\n",
      "\u001b[0;31mNameError\u001b[0m: name 'pole_positions' is not defined"
     ]
    }
   ],
   "source": [
    "%run keweenawan_apw_path.py 2 true\n",
    "ages = [1110,1105,1100,1095,1090,1085,1080]\n",
    "pole_positions_2_true = path.compute_poles_on_path(ages,n_poles=1000)\n"
   ]
  },
  {
   "cell_type": "code",
   "execution_count": 2,
   "metadata": {
    "collapsed": true
   },
   "outputs": [],
   "source": [
    "np.savetxt('pole_lon_positions_2_true.txt',pole_positions_2_true[0])\n",
    "np.savetxt('pole_lat_positions_2_true.txt',pole_positions_2_true[1])"
   ]
  },
  {
   "cell_type": "code",
   "execution_count": null,
   "metadata": {
    "collapsed": true
   },
   "outputs": [],
   "source": []
  }
 ],
 "metadata": {
  "anaconda-cloud": {},
  "kernelspec": {
   "display_name": "Python 2",
   "language": "python",
   "name": "python2"
  },
  "language_info": {
   "codemirror_mode": {
    "name": "ipython",
    "version": 2
   },
   "file_extension": ".py",
   "mimetype": "text/x-python",
   "name": "python",
   "nbconvert_exporter": "python",
   "pygments_lexer": "ipython2",
   "version": "2.7.12"
  }
 },
 "nbformat": 4,
 "nbformat_minor": 1
}
